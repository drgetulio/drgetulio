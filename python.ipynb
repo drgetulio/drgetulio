{
  "nbformat": 4,
  "nbformat_minor": 0,
  "metadata": {
    "colab": {
      "name": "Untitled1.ipynb",
      "version": "0.3.2",
      "provenance": [],
      "include_colab_link": true
    },
    "kernelspec": {
      "name": "python3",
      "display_name": "Python 3"
    },
    "accelerator": "GPU"
  },
  "cells": [
    {
      "cell_type": "markdown",
      "metadata": {
        "id": "view-in-github",
        "colab_type": "text"
      },
      "source": [
        "<a href=\"https://colab.research.google.com/github/drgetulio/drgetulio/blob/master/python.ipynb\" target=\"_parent\"><img src=\"https://colab.research.google.com/assets/colab-badge.svg\" alt=\"Open In Colab\"/></a>"
      ]
    },
    {
      "metadata": {
        "id": "K6A8zwiybzDH",
        "colab_type": "code",
        "colab": {
          "base_uri": "https://localhost:8080/",
          "height": 68
        },
        "outputId": "bf8d5887-9851-49e9-bb3d-cb5cd4b9fd7b"
      },
      "cell_type": "code",
      "source": [
        "man = []\n",
        "other = []\n",
        "try:\n",
        "    data = open(\"sketch.txt\")\n",
        "    for each_line in data:\n",
        "        try:\n",
        "            (role, line_spoken) = each_line.split(\":\", 1)\n",
        "            line_spoken = line_spoken.strip()\n",
        "            if role == \"Man\":\n",
        "                man.append(line_spoken)\n",
        "            elif role == \"Other man\":\n",
        "                other.append(line_spoken)\n",
        "        except ValueError:\n",
        "            pass\n",
        "    data.close()\n",
        "except IOError:\n",
        "    print(\"The datafile is missing!\")\n",
        "print(man)\n",
        "print(other)"
      ],
      "execution_count": 1,
      "outputs": [
        {
          "output_type": "stream",
          "text": [
            "The datafile is missing!\n",
            "[]\n",
            "[]\n"
          ],
          "name": "stdout"
        }
      ]
    }
  ]
}