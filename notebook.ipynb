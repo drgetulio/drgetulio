{
  "nbformat": 4,
  "nbformat_minor": 0,
  "metadata": {
    "colab": {
      "name": "notebook.ipynb",
      "version": "0.3.2",
      "provenance": [],
      "include_colab_link": true
    },
    "kernelspec": {
      "name": "python3",
      "display_name": "Python 3"
    },
    "accelerator": "GPU"
  },
  "cells": [
    {
      "cell_type": "markdown",
      "metadata": {
        "id": "view-in-github",
        "colab_type": "text"
      },
      "source": [
        "<a href=\"https://colab.research.google.com/github/drgetulio/drgetulio/blob/master/notebook.ipynb\" target=\"_parent\"><img src=\"https://colab.research.google.com/assets/colab-badge.svg\" alt=\"Open In Colab\"/></a>"
      ]
    },
    {
      "metadata": {
        "id": "K6A8zwiybzDH",
        "colab_type": "code",
        "colab": {
          "base_uri": "https://localhost:8080/",
          "height": 68
        },
        "outputId": "c5e35957-094c-47b1-bf82-5919a711fdc0"
      },
      "cell_type": "code",
      "source": [
        "man = []\n",
        "other = []\n",
        "try:\n",
        "    data = open(\"sketch.txt\")\n",
        "    for each_line in data:\n",
        "        try:\n",
        "            (role, line_spoken) = each_line.split(\":\", 1)\n",
        "            line_spoken = line_spoken.strip()\n",
        "            if role == \"Man\":\n",
        "                man.append(line_spoken)\n",
        "            elif role == \"Other man\":\n",
        "                other.append(line_spoken)\n",
        "        except ValueError:\n",
        "            pass\n",
        "    data.close()\n",
        "except IOError:\n",
        "    print(\"The datafile is missing!\")\n",
        "print(man)\n",
        "print(other)\n",
        "\n",
        "try:\n",
        "    man_file = open('man_data.txt', 'w')\n",
        "    other_file = open('other_data.txt', 'w')\n",
        "    print(man, file = man_file)\n",
        "    print(other, file=other_file)\n",
        "    man_file.close()\n",
        "    other_file.close()\n",
        "except IOError:\n",
        "    print('File Error.')"
      ],
      "execution_count": 4,
      "outputs": [
        {
          "output_type": "stream",
          "text": [
            "The datafile is missing!\n",
            "[]\n",
            "[]\n"
          ],
          "name": "stdout"
        }
      ]
    }
  ]
}