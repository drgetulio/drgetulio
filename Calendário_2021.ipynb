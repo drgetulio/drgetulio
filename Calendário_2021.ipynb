{
  "nbformat": 4,
  "nbformat_minor": 0,
  "metadata": {
    "colab": {
      "name": "Calendário 2021.ipynb",
      "provenance": [],
      "collapsed_sections": [
        "g2WgGEDDBTPE",
        "ASBk65AOBgVV",
        "n13gkCxoBj7g",
        "BFj_jxTjBlT1",
        "67aWs68ABmH5",
        "l08Uek58Bnwa"
      ],
      "toc_visible": true,
      "authorship_tag": "ABX9TyNWlrPH10/slfT175ro1u2k",
      "include_colab_link": true
    },
    "kernelspec": {
      "name": "python3",
      "display_name": "Python 3"
    }
  },
  "cells": [
    {
      "cell_type": "markdown",
      "metadata": {
        "id": "view-in-github",
        "colab_type": "text"
      },
      "source": [
        "<a href=\"https://colab.research.google.com/github/drgetulio/drgetulio/blob/master/Calend%C3%A1rio_2021.ipynb\" target=\"_parent\"><img src=\"https://colab.research.google.com/assets/colab-badge.svg\" alt=\"Open In Colab\"/></a>"
      ]
    },
    {
      "cell_type": "markdown",
      "metadata": {
        "id": "0XqXCJxuBOB7"
      },
      "source": [
        "#2ª Série - 2021\r\n",
        "##Coordenador: Getúlio Bernardo Morato Filho"
      ]
    },
    {
      "cell_type": "markdown",
      "metadata": {
        "id": "g2WgGEDDBTPE"
      },
      "source": [
        "#Abril"
      ]
    },
    {
      "cell_type": "markdown",
      "metadata": {
        "id": "o0Rl_UbUB29M"
      },
      "source": [
        "##Semana 1 - 05 a 10 de Abril de 2021"
      ]
    },
    {
      "cell_type": "markdown",
      "metadata": {
        "id": "LsGwA83vCCk7"
      },
      "source": [
        "##Semana 2 - 12 a 17 de Abril de 2021"
      ]
    },
    {
      "cell_type": "markdown",
      "metadata": {
        "id": "1dNqa023CLRQ"
      },
      "source": [
        "##Semana 3 - 05 a 10 de Abril de 2021"
      ]
    },
    {
      "cell_type": "markdown",
      "metadata": {
        "id": "YpPmvbVfCLlE"
      },
      "source": [
        "##Semana 4 - 05 a 10 de Abril de 2021"
      ]
    },
    {
      "cell_type": "markdown",
      "metadata": {
        "id": "ASBk65AOBgVV"
      },
      "source": [
        "#Maio"
      ]
    },
    {
      "cell_type": "markdown",
      "metadata": {
        "id": "SEPrpJAUCorF"
      },
      "source": [
        "##Semana 5 - 05 a 10 de Abril de 2021"
      ]
    },
    {
      "cell_type": "markdown",
      "metadata": {
        "id": "8KAq_rWtCqeo"
      },
      "source": [
        "##Semana 6 - 05 a 10 de Abril de 2021"
      ]
    },
    {
      "cell_type": "markdown",
      "metadata": {
        "id": "CuVmbTBICrKV"
      },
      "source": [
        "##Semana 7 - 05 a 10 de Abril de 2021"
      ]
    },
    {
      "cell_type": "markdown",
      "metadata": {
        "id": "1OIa9wh0CrXZ"
      },
      "source": [
        "##Semana 8 - 05 a 10 de Abril de 2021"
      ]
    },
    {
      "cell_type": "markdown",
      "metadata": {
        "id": "JrW7E0VRCrue"
      },
      "source": [
        "##Semana 9 - 05 a 10 de Abril de 2021"
      ]
    },
    {
      "cell_type": "markdown",
      "metadata": {
        "id": "n13gkCxoBj7g"
      },
      "source": [
        "#Junho"
      ]
    },
    {
      "cell_type": "markdown",
      "metadata": {
        "id": "jzb9JYWoDLRG"
      },
      "source": [
        "##Semana 10 - 05 a 10 de Abril de 2021"
      ]
    },
    {
      "cell_type": "markdown",
      "metadata": {
        "id": "9J4zayN8DL2i"
      },
      "source": [
        "##Semana 11 - 05 a 10 de Abril de 2021"
      ]
    },
    {
      "cell_type": "markdown",
      "metadata": {
        "id": "nOCVlNtVDMWI"
      },
      "source": [
        "##Semana 12 - 05 a 10 de Abril de 2021"
      ]
    },
    {
      "cell_type": "markdown",
      "metadata": {
        "id": "aXDj9BU7DNOf"
      },
      "source": [
        "##Semana 13 - 05 a 10 de Abril de 2021"
      ]
    },
    {
      "cell_type": "markdown",
      "metadata": {
        "id": "BFj_jxTjBlT1"
      },
      "source": [
        "#Julho"
      ]
    },
    {
      "cell_type": "markdown",
      "metadata": {
        "id": "hz5zqwHqDYcZ"
      },
      "source": [
        "##Semana 14 - 05 a 10 de Abril de 2021"
      ]
    },
    {
      "cell_type": "markdown",
      "metadata": {
        "id": "cQGKomzqDbWy"
      },
      "source": [
        "##Semana 15 - 05 a 10 de Abril de 2021"
      ]
    },
    {
      "cell_type": "markdown",
      "metadata": {
        "id": "1tB6a6lnDd61"
      },
      "source": [
        "##Semana 16 - 05 a 10 de Abril de 2021"
      ]
    },
    {
      "cell_type": "markdown",
      "metadata": {
        "id": "PWxbFpXZDeg4"
      },
      "source": [
        "##Semana 17 - 05 a 10 de Abril de 2021"
      ]
    },
    {
      "cell_type": "markdown",
      "metadata": {
        "id": "67aWs68ABmH5"
      },
      "source": [
        "#Agosto"
      ]
    },
    {
      "cell_type": "markdown",
      "metadata": {
        "id": "PJMkIk8yDgXh"
      },
      "source": [
        "##Semana 18 - 05 a 10 de Abril de 2021"
      ]
    },
    {
      "cell_type": "markdown",
      "metadata": {
        "id": "IGEUFP-2DgkC"
      },
      "source": [
        "##Semana 19 - 05 a 10 de Abril de 2021"
      ]
    },
    {
      "cell_type": "markdown",
      "metadata": {
        "id": "cbrTwqlcDgwW"
      },
      "source": [
        "##Semana 20 - 05 a 10 de Abril de 2021"
      ]
    },
    {
      "cell_type": "markdown",
      "metadata": {
        "id": "8oa6zjWIDg6g"
      },
      "source": [
        "##Semana 21 - 05 a 10 de Abril de 2021"
      ]
    },
    {
      "cell_type": "markdown",
      "metadata": {
        "id": "Zbl5KHi9DhfB"
      },
      "source": [
        "##Semana 22 - 05 a 10 de Abril de 2021"
      ]
    },
    {
      "cell_type": "markdown",
      "metadata": {
        "id": "l08Uek58Bnwa"
      },
      "source": [
        "#Setembro"
      ]
    },
    {
      "cell_type": "markdown",
      "metadata": {
        "id": "4CDKVPSeDkqK"
      },
      "source": [
        "##Semana 23 - 05 a 10 de Abril de 2021"
      ]
    },
    {
      "cell_type": "markdown",
      "metadata": {
        "id": "aNcx8PDnDlkx"
      },
      "source": [
        "##Semana 24 - 05 a 10 de Abril de 2021"
      ]
    },
    {
      "cell_type": "markdown",
      "metadata": {
        "id": "ML3O0kXzDmBU"
      },
      "source": [
        "##Semana 25 - 05 a 10 de Abril de 2021"
      ]
    },
    {
      "cell_type": "markdown",
      "metadata": {
        "id": "v5rKaPi6DmY7"
      },
      "source": [
        "##Semana 26 - 05 a 10 de Abril de 2021"
      ]
    },
    {
      "cell_type": "markdown",
      "metadata": {
        "id": "dt-uKYqqBobz"
      },
      "source": [
        "#Outubro"
      ]
    },
    {
      "cell_type": "markdown",
      "metadata": {
        "id": "lBEAk8c9Dnlh"
      },
      "source": [
        "##Semana 27 - 04 a 09 de Outubro de 2021"
      ]
    },
    {
      "cell_type": "markdown",
      "metadata": {
        "id": "WZDEIye-DoRw"
      },
      "source": [
        "##Semana 28 - 05 a 10 de Abril de 2021"
      ]
    },
    {
      "cell_type": "markdown",
      "metadata": {
        "id": "rBgylLbFDouU"
      },
      "source": [
        "##Semana 29 - 05 a 10 de Abril de 2021"
      ]
    },
    {
      "cell_type": "markdown",
      "metadata": {
        "id": "f4sd8l-SDpEL"
      },
      "source": [
        "##Semana 30 - 05 a 10 de Abril de 2021"
      ]
    },
    {
      "cell_type": "markdown",
      "metadata": {
        "id": "IYm1Lq1mBrOg"
      },
      "source": [
        "#Novembro\r\n"
      ]
    },
    {
      "cell_type": "markdown",
      "metadata": {
        "id": "AI1t8fzeDqHj"
      },
      "source": [
        "##Semana 31 - 05 a 10 de Novembro de 2021"
      ]
    },
    {
      "cell_type": "markdown",
      "metadata": {
        "id": "CrgjMMJhDqeZ"
      },
      "source": [
        "##Semana 32 - 05 a 10 de Novembro de 2021"
      ]
    },
    {
      "cell_type": "markdown",
      "metadata": {
        "id": "MkH1cR0KDqyl"
      },
      "source": [
        "##Semana 33 - 05 a 10 de Novembro de 2021"
      ]
    },
    {
      "cell_type": "markdown",
      "metadata": {
        "id": "BOJ7oJphDrdH"
      },
      "source": [
        "##Semana 34 - 05 a 10 de Novembro de 2021"
      ]
    },
    {
      "cell_type": "markdown",
      "metadata": {
        "id": "hAqSCm2BDr4X"
      },
      "source": [
        "##Semana 35 - 05 a 10 de Abril de 2021"
      ]
    },
    {
      "cell_type": "markdown",
      "metadata": {
        "id": "tTw1AVRtBu7N"
      },
      "source": [
        "#Dezembro"
      ]
    },
    {
      "cell_type": "markdown",
      "metadata": {
        "id": "76cZfidKDyp_"
      },
      "source": [
        "##Semana 36 - 05 a 10 de Abril de 2021"
      ]
    },
    {
      "cell_type": "markdown",
      "metadata": {
        "id": "SDxoEC4bDy5x"
      },
      "source": [
        "##Semana 37 - 05 a 10 de Abril de 2021"
      ]
    },
    {
      "cell_type": "markdown",
      "metadata": {
        "id": "irFlvW1kDzDv"
      },
      "source": [
        "##Semana 38 - 05 a 10 de Abril de 2021"
      ]
    },
    {
      "cell_type": "markdown",
      "metadata": {
        "id": "09W6jzNND1Ft"
      },
      "source": [
        "##Semana 39 - 05 a 10 de Abril de 2021"
      ]
    },
    {
      "cell_type": "markdown",
      "metadata": {
        "id": "XCEk7tkMBwri"
      },
      "source": [
        "#2ª Série - 2022"
      ]
    },
    {
      "cell_type": "markdown",
      "metadata": {
        "id": "THFIWWPoFDtL"
      },
      "source": [
        "#Janeiro"
      ]
    },
    {
      "cell_type": "markdown",
      "metadata": {
        "id": "CtTY04NzFF7G"
      },
      "source": [
        "##Semana 1 - 05 a 10 de Janeiro de 2022"
      ]
    },
    {
      "cell_type": "markdown",
      "metadata": {
        "id": "1_YNKkFUFH1g"
      },
      "source": [
        "##Semana 1 - 05 a 10 de Janeiro de 2022"
      ]
    },
    {
      "cell_type": "markdown",
      "metadata": {
        "id": "Gmah6tKKFISb"
      },
      "source": [
        "##Semana 1 - 05 a 10 de Janeiro de 2022"
      ]
    },
    {
      "cell_type": "markdown",
      "metadata": {
        "id": "SVn6BPi6FIpz"
      },
      "source": [
        "##Semana 1 - 05 a 10 de Janeiro de 2022"
      ]
    }
  ]
}